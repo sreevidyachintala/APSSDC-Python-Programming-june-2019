{
 "cells": [
  {
   "cell_type": "markdown",
   "metadata": {},
   "source": [
    "## Map \n",
    "\n",
    "Mapping--->Relation between entity with a function\n",
    "\n",
    "f : x^2+3*x+9\n",
    "\n",
    "x : [1,10]\n",
    "\n",
    "f(x)"
   ]
  },
  {
   "cell_type": "code",
   "execution_count": 23,
   "metadata": {},
   "outputs": [
    {
     "data": {
      "text/plain": [
       "[2, 4, 6, 8]"
      ]
     },
     "execution_count": 23,
     "metadata": {},
     "output_type": "execute_result"
    }
   ],
   "source": [
    "def adition(n):\n",
    "    return n+n\n",
    "num=(1,2,3,4)\n",
    "res=map(adition,num)\n",
    "list(res)\n",
    "#adition()"
   ]
  },
  {
   "cell_type": "code",
   "execution_count": 1,
   "metadata": {},
   "outputs": [
    {
     "data": {
      "text/plain": [
       "[1, 8, 27, 64]"
      ]
     },
     "execution_count": 1,
     "metadata": {},
     "output_type": "execute_result"
    }
   ],
   "source": [
    "def cube(n):\n",
    "    return n**3\n",
    "num=(1,2,3,4)\n",
    "res=map(cube,num)\n",
    "list(res)"
   ]
  },
  {
   "cell_type": "markdown",
   "metadata": {},
   "source": [
    "## Filter\n"
   ]
  },
  {
   "cell_type": "code",
   "execution_count": 6,
   "metadata": {},
   "outputs": [
    {
     "data": {
      "text/plain": [
       "[503, 509, 521, 523, 541, 547, 557, 563, 569, 571, 577, 587, 593, 599]"
      ]
     },
     "execution_count": 6,
     "metadata": {},
     "output_type": "execute_result"
    }
   ],
   "source": [
    "# check Prime List\n",
    "def Prime(n):\n",
    "    if n<2:\n",
    "        return False\n",
    "    for i in range(2,n//2+1):\n",
    "        if n%i==0:\n",
    "            return False\n",
    "\n",
    "    return True\n",
    "a,b=500,600\n",
    "primeList=list(filter(Prime,range(a,b)))\n",
    "primelist2=[ i for i in range(a,b+1) if Prime(i)]\n",
    "primeList"
   ]
  },
  {
   "cell_type": "code",
   "execution_count": 4,
   "metadata": {},
   "outputs": [
    {
     "name": "stdout",
     "output_type": "stream",
     "text": [
      "a\n",
      "e\n",
      "i\n",
      "o\n",
      "u\n"
     ]
    }
   ],
   "source": [
    "alpha1=['a','b','c','e','f','g','i','h','o','p','r','s','u']\n",
    "\n",
    "def Alphabets(alpha):\n",
    "    vowels=['a','e','i','o','u']   \n",
    "    if alpha in vowels:\n",
    "        return True\n",
    "    else:\n",
    "        return False\n",
    "vowelList=filter(Alphabets,alpha1)\n",
    "\n",
    "for vowel in vowelList:\n",
    "    print(vowel)"
   ]
  },
  {
   "cell_type": "markdown",
   "metadata": {},
   "source": [
    "### Lambda"
   ]
  },
  {
   "cell_type": "markdown",
   "metadata": {},
   "source": [
    "Anonymous Function\n",
    "\n",
    "can be embedded into list Comprehensions,maps,Filters\n",
    "\n"
   ]
  },
  {
   "cell_type": "code",
   "execution_count": 9,
   "metadata": {},
   "outputs": [
    {
     "name": "stdout",
     "output_type": "stream",
     "text": [
      "27\n",
      "64\n"
     ]
    }
   ],
   "source": [
    "##Example1\n",
    "\n",
    "def cube(y):\n",
    "    return y*y*y\n",
    "\n",
    "a=lambda x:x*x*x\n",
    "print(a(3))\n",
    "print(cube(4))"
   ]
  },
  {
   "cell_type": "code",
   "execution_count": 14,
   "metadata": {},
   "outputs": [
    {
     "name": "stdout",
     "output_type": "stream",
     "text": [
      "[3, 5, 7, 9]\n"
     ]
    }
   ],
   "source": [
    "## lambda() using filter()\n",
    "\n",
    "li=[3,4,5,6,7,8,9]\n",
    "\n",
    "list1=filter(lambda x: (x%2!=0),li)\n",
    "print(list(list1))"
   ]
  },
  {
   "cell_type": "code",
   "execution_count": 17,
   "metadata": {},
   "outputs": [
    {
     "name": "stdout",
     "output_type": "stream",
     "text": [
      "[6, 8, 10, 12, 14, 16, 18]\n"
     ]
    }
   ],
   "source": [
    "## lambda() using map()\n",
    "\n",
    "li=[3,4,5,6,7,8,9]\n",
    "\n",
    "list1=list(map(lambda x:x*2,li))\n",
    "print(list(list1))"
   ]
  },
  {
   "cell_type": "code",
   "execution_count": 19,
   "metadata": {},
   "outputs": [
    {
     "name": "stdout",
     "output_type": "stream",
     "text": [
      "[24, 34, 56]\n"
     ]
    }
   ],
   "source": [
    "def even(a):\n",
    "    return a%2==0\n",
    "li=[24,34,56,67]\n",
    "even11=filter(even,li)\n",
    "print(list(even11))"
   ]
  },
  {
   "cell_type": "code",
   "execution_count": 30,
   "metadata": {},
   "outputs": [
    {
     "data": {
      "text/plain": [
       "[14, 13, 11, 4, 16, 11, 2, 11, 21, 15]"
      ]
     },
     "execution_count": 30,
     "metadata": {},
     "output_type": "execute_result"
    }
   ],
   "source": [
    "## List of Marks for 10 students\n",
    "from random import randint\n",
    "\n",
    "x1=[randint(0,25) for i in range(10)]\n",
    "y1=[randint(0,25) for i in range(10)]\n",
    "z1=[randint(0,25) for i in range(10)]\n",
    "\n",
    "avrg=list(map(lambda a,b,c:(a+b+c)//3,x1,y1,z1))\n",
    "\n",
    "failedmarks=list(filter(lambda a:a<15,avrg))\n",
    "\n"
   ]
  },
  {
   "cell_type": "markdown",
   "metadata": {},
   "source": [
    "## Applying Functional Programming to the marks Analysis Application"
   ]
  },
  {
   "cell_type": "code",
   "execution_count": 10,
   "metadata": {},
   "outputs": [],
   "source": [
    "# Generate Marks Data\n",
    "from random import randint\n",
    "def genMarks(n,lb,ub):\n",
    "    with open(\"DataFiles/marks.txt\",'w') as fh:\n",
    "        for i in range(n):\n",
    "            marks=randint(lb,ub)\n",
    "            fh.write(str(marks)+'\\n')\n",
    "    return\n",
    "genMarks(300,0,100)\n",
    "        \n",
    "        \n",
    "\n"
   ]
  },
  {
   "cell_type": "code",
   "execution_count": 15,
   "metadata": {},
   "outputs": [
    {
     "data": {
      "text/plain": [
       "51"
      ]
     },
     "execution_count": 15,
     "metadata": {},
     "output_type": "execute_result"
    }
   ],
   "source": [
    "# Marks Analysis\n",
    "\n",
    "# Class Average\n",
    "#% passed,failed and distinction\n",
    "#Ferquency of highest &lowest marks\n",
    "\n",
    "#def readMarks(fpath)\n",
    "def readMarks(fpath):\n",
    "    with open(\"DataFiles/marks.txt\",\"r\") as fh:\n",
    "        fdata=fh.read().split()\n",
    "    return list(map(int,fdata))\n",
    "def ClassAvrg(fpath):\n",
    "    #with open(\"DataFiles/marks.txt\",'r') as fh:\n",
    "        #fdata=fh.read().split()\n",
    "        #markslist=re.split(\"\\n\",fdata)\n",
    "    markslist=readMarks(fpath)\n",
    "    return sum(markslist)//len(markslist)\n",
    "fpath=\"DataFiles/marks.txt\"\n",
    "ClassAvrg(fpath)\n",
    "        \n",
    "        "
   ]
  },
  {
   "cell_type": "code",
   "execution_count": 21,
   "metadata": {},
   "outputs": [
    {
     "data": {
      "text/plain": [
       "111"
      ]
     },
     "execution_count": 21,
     "metadata": {},
     "output_type": "execute_result"
    }
   ],
   "source": [
    "def percentageFailed(fpath):\n",
    "    markslist=readMarks(fpath)\n",
    "    fcount=len(list(filter(lambda mark:mark<40,markslist)))\n",
    "    return fcount\n",
    "fpath=\"DataFiles/marks.txt\"\n",
    "percentageFailed(fpath)\n",
    "    \n",
    "    "
   ]
  },
  {
   "cell_type": "code",
   "execution_count": null,
   "metadata": {},
   "outputs": [],
   "source": [
    "def percentagePassed(fpath):\n",
    "    retrun 100-"
   ]
  },
  {
   "cell_type": "code",
   "execution_count": 26,
   "metadata": {},
   "outputs": [
    {
     "data": {
      "text/plain": [
       "92"
      ]
     },
     "execution_count": 26,
     "metadata": {},
     "output_type": "execute_result"
    }
   ],
   "source": [
    "def Distinction(fpath):\n",
    "    markslist=readMarks(fpath)\n",
    "    dcount=len(list(filter(lambda mark:mark>70,markslist)))\n",
    "    return dcount\n",
    "Distinction(\"DataFiles/marks.txt\")"
   ]
  },
  {
   "cell_type": "code",
   "execution_count": 23,
   "metadata": {},
   "outputs": [
    {
     "data": {
      "text/plain": [
       "6"
      ]
     },
     "execution_count": 23,
     "metadata": {},
     "output_type": "execute_result"
    }
   ],
   "source": [
    "## highest marks frequency\n",
    "\n",
    "def highestFrequency(fpath):\n",
    "    markslist=readMarks(fpath)\n",
    "    return markslist.count(max(markslist))\n",
    "highestFrequency(\"DataFiles/marks.txt\")"
   ]
  },
  {
   "cell_type": "code",
   "execution_count": 24,
   "metadata": {},
   "outputs": [
    {
     "data": {
      "text/plain": [
       "3"
      ]
     },
     "execution_count": 24,
     "metadata": {},
     "output_type": "execute_result"
    }
   ],
   "source": [
    "# lowest marks frequency\n",
    "def lowestFrequency(fpath):\n",
    "    markslist=readMarks(fpath)\n",
    "    return markslist.count(min(markslist))\n",
    "lowestFrequency(\"DataFiles/marks.txt\")"
   ]
  },
  {
   "cell_type": "markdown",
   "metadata": {},
   "source": [
    "### Data Encryption\n",
    "\n",
    "\n",
    "Key ---- Mapping of data with replaced\n"
   ]
  },
  {
   "cell_type": "code",
   "execution_count": 30,
   "metadata": {},
   "outputs": [],
   "source": [
    "## function to generate Key for encryption\n",
    "\n",
    "\n",
    "\n",
    "def GenerateKey(kpath):\n",
    "    with open(\"DataFiles/key.txt\",\"w\") as w:\n",
    "        for i in range(0,10):\n",
    "            if i<6:\n",
    "                w.write(str(i)+' '+str(i+4)+'\\n')\n",
    "            else:\n",
    "                w.write(str(i)+' '+str(i-6)+'\\n')\n",
    "        return\n",
    "kpath=\"DataFiles/key.txt\"\n",
    "GenerateKey(kpath)\n",
    "            "
   ]
  },
  {
   "cell_type": "code",
   "execution_count": 8,
   "metadata": {},
   "outputs": [
    {
     "ename": "AttributeError",
     "evalue": "'dict_items' object has no attribute 'items'",
     "output_type": "error",
     "traceback": [
      "\u001b[1;31m---------------------------------------------------------------------------\u001b[0m",
      "\u001b[1;31mAttributeError\u001b[0m                            Traceback (most recent call last)",
      "\u001b[1;32m<ipython-input-8-313c031b8c0b>\u001b[0m in \u001b[0;36m<module>\u001b[1;34m\u001b[0m\n\u001b[0;32m     46\u001b[0m     \u001b[1;32mreturn\u001b[0m\u001b[1;33m\u001b[0m\u001b[1;33m\u001b[0m\u001b[0m\n\u001b[0;32m     47\u001b[0m \u001b[0mefile\u001b[0m\u001b[1;33m=\u001b[0m\u001b[1;34m\"DataFiles/marks.txt\"\u001b[0m\u001b[1;33m\u001b[0m\u001b[1;33m\u001b[0m\u001b[0m\n\u001b[1;32m---> 48\u001b[1;33m \u001b[0mdecryptFile\u001b[0m\u001b[1;33m(\u001b[0m\u001b[0mefile\u001b[0m\u001b[1;33m,\u001b[0m\u001b[0mkfile\u001b[0m\u001b[1;33m)\u001b[0m\u001b[1;33m\u001b[0m\u001b[1;33m\u001b[0m\u001b[0m\n\u001b[0m\u001b[0;32m     49\u001b[0m \u001b[1;33m\u001b[0m\u001b[0m\n\u001b[0;32m     50\u001b[0m \u001b[1;33m\u001b[0m\u001b[0m\n",
      "\u001b[1;32m<ipython-input-8-313c031b8c0b>\u001b[0m in \u001b[0;36mdecryptFile\u001b[1;34m(efile, kfile)\u001b[0m\n\u001b[0;32m     33\u001b[0m     \u001b[0mkey\u001b[0m\u001b[1;33m=\u001b[0m\u001b[0mkey\u001b[0m\u001b[1;33m.\u001b[0m\u001b[0mitems\u001b[0m\u001b[1;33m(\u001b[0m\u001b[1;33m)\u001b[0m\u001b[1;33m\u001b[0m\u001b[1;33m\u001b[0m\u001b[0m\n\u001b[0;32m     34\u001b[0m     \u001b[0mnewkey\u001b[0m\u001b[1;33m=\u001b[0m\u001b[1;33m{\u001b[0m\u001b[1;33m}\u001b[0m\u001b[1;33m\u001b[0m\u001b[1;33m\u001b[0m\u001b[0m\n\u001b[1;32m---> 35\u001b[1;33m     \u001b[1;32mfor\u001b[0m \u001b[0mkey\u001b[0m\u001b[1;33m,\u001b[0m\u001b[0mvalue\u001b[0m \u001b[1;32min\u001b[0m \u001b[0mkey\u001b[0m\u001b[1;33m.\u001b[0m\u001b[0mitems\u001b[0m\u001b[1;33m(\u001b[0m\u001b[1;33m)\u001b[0m\u001b[1;33m:\u001b[0m\u001b[1;33m\u001b[0m\u001b[1;33m\u001b[0m\u001b[0m\n\u001b[0m\u001b[0;32m     36\u001b[0m         \u001b[0mnewkey\u001b[0m\u001b[1;33m[\u001b[0m\u001b[0mvalue\u001b[0m\u001b[1;33m]\u001b[0m\u001b[1;33m=\u001b[0m\u001b[0mkey\u001b[0m\u001b[1;33m\u001b[0m\u001b[1;33m\u001b[0m\u001b[0m\n\u001b[0;32m     37\u001b[0m     \u001b[1;32mwith\u001b[0m \u001b[0mopen\u001b[0m\u001b[1;33m(\u001b[0m\u001b[0mefile\u001b[0m\u001b[1;33m,\u001b[0m\u001b[1;34m'r'\u001b[0m\u001b[1;33m)\u001b[0m \u001b[1;32mas\u001b[0m \u001b[0mf\u001b[0m\u001b[1;33m:\u001b[0m\u001b[1;33m\u001b[0m\u001b[1;33m\u001b[0m\u001b[0m\n",
      "\u001b[1;31mAttributeError\u001b[0m: 'dict_items' object has no attribute 'items'"
     ]
    }
   ],
   "source": [
    "# Function to Encrypt the data\n",
    "\n",
    "def dictionaryKeyFile(kfile):\n",
    "    key={}\n",
    "    with open(\"DataFiles/key.txt\",'r') as f:\n",
    "        for line in f:\n",
    "            line=line.split()\n",
    "            key[line[0]]=line[1]\n",
    "    return key\n",
    "kfile=\"DataFiles/key.txt\"\n",
    "#dictionaryKeyFile(kfile)\n",
    "\n",
    "# Encryption method\n",
    "\n",
    "def EncryptKeyFile(dfile,kfile):\n",
    "    key=dictionaryKeyFile(kfile)\n",
    "    with open(dfile,'r') as f:\n",
    "        fdata=f.read().split('\\n')\n",
    "    with open(\"DataFiles/encryMarks.txt\",'w') as f:\n",
    "        for marks in fdata:\n",
    "            line=' '\n",
    "            for n in marks:\n",
    "                line+=key[n]\n",
    "            f.write(line+ '\\n')\n",
    "    return\n",
    "dfile=\"DataFiles/marks.txt\"\n",
    "#EncryptKeyFile(dfile,kfile)\n",
    "\n",
    "# Decryption Method\n",
    "\n",
    "def decryptFile(efile,kfile):\n",
    "    key=dictionaryKeyFile(kfile)\n",
    "    key=key.items()\n",
    "    newkey={}\n",
    "    for key,value in key.items():\n",
    "        newkey[value]=key\n",
    "    with open(efile,'r') as f:\n",
    "        edata=f.read().split('\\n')\n",
    "    with open(\"DataFiles/decryMarks.txt\",'w') as f:\n",
    "        \n",
    "        for emarks in edata:\n",
    "            for n1 in emarks:\n",
    "                line=' '\n",
    "                line+=newkey[n1]\n",
    "            f.write(line+ '\\n')\n",
    "    return\n",
    "efile=\"DataFiles/marks.txt\"\n",
    "decryptFile(efile,kfile)\n",
    "                \n",
    "        \n",
    "    \n",
    "    \n",
    "        \n",
    "    \n"
   ]
  },
  {
   "cell_type": "code",
   "execution_count": null,
   "metadata": {},
   "outputs": [],
   "source": []
  },
  {
   "cell_type": "code",
   "execution_count": null,
   "metadata": {},
   "outputs": [],
   "source": []
  },
  {
   "cell_type": "code",
   "execution_count": null,
   "metadata": {},
   "outputs": [],
   "source": []
  },
  {
   "cell_type": "code",
   "execution_count": null,
   "metadata": {},
   "outputs": [],
   "source": []
  }
 ],
 "metadata": {
  "kernelspec": {
   "display_name": "Python 3",
   "language": "python",
   "name": "python3"
  },
  "language_info": {
   "codemirror_mode": {
    "name": "ipython",
    "version": 3
   },
   "file_extension": ".py",
   "mimetype": "text/x-python",
   "name": "python",
   "nbconvert_exporter": "python",
   "pygments_lexer": "ipython3",
   "version": "3.7.3"
  }
 },
 "nbformat": 4,
 "nbformat_minor": 2
}
