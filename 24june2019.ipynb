{
 "cells": [
  {
   "cell_type": "code",
   "execution_count": 5,
   "metadata": {},
   "outputs": [
    {
     "name": "stdout",
     "output_type": "stream",
     "text": [
      "5 2\n",
      "1 0 1 1 0\n",
      "1 2\n",
      "0 1 4\n",
      "ODD\n"
     ]
    }
   ],
   "source": [
    "n,q=[int(x) for x in input().split()]\n",
    "l=[int(x) for x in input().split()]\n",
    "for k in range(q):\n",
    "    val=list(map(int,input().split()))\n",
    "    if(len(val)==2):\n",
    "             l[val[1]-1]=l[val[1]-1]^1\n",
    "    else:\n",
    "             if l[val[2]-1]&1:\n",
    "                print(\"ODD\")\n",
    "             else:\n",
    "                print(\"EVEN\")"
   ]
  },
  {
   "cell_type": "code",
   "execution_count": 13,
   "metadata": {},
   "outputs": [
    {
     "name": "stdout",
     "output_type": "stream",
     "text": [
      "5\n",
      "1 2 3 4 5\n",
      "4 5 3 2 10\n"
     ]
    }
   ],
   "source": [
    "#Monk and Welcome Problem\n",
    "N=int(input())\n",
    "A=list(map(int,input().split()))\n",
    "B=list(map(int,input().split()))\n",
    "C=\"\"\n",
    "for i in range(N):\n",
    "    C+=str(A[i]+B[i])+\" \"\n",
    "\n",
    "    "
   ]
  },
  {
   "cell_type": "code",
   "execution_count": null,
   "metadata": {},
   "outputs": [],
   "source": [
    "#Contacts apllication\n",
    "   # Add,Search,List,Modify Delete contacts\n",
    "#find and replace application\n",
    "  # count the total number of occurances of a word\n",
    "  # If word is existing \n",
    "  # Replace all occurances of a  word with another word\n",
    "#Marks Analysis Application\n",
    "    #Generate the marks file - marks file for n students\n",
    "    #Input: Marks text file - each line contains marks of one student  \n",
    "    #Generate a report with the following inforamtion\n",
    "         #  Class average\n",
    "         # % of students passed\n",
    "         # % of failed students\n",
    "         # % of students with distinction\n",
    "\n",
    "    \n",
    "    "
   ]
  },
  {
   "cell_type": "code",
   "execution_count": null,
   "metadata": {},
   "outputs": [],
   "source": []
  }
 ],
 "metadata": {
  "kernelspec": {
   "display_name": "Python 3",
   "language": "python",
   "name": "python3"
  },
  "language_info": {
   "codemirror_mode": {
    "name": "ipython",
    "version": 3
   },
   "file_extension": ".py",
   "mimetype": "text/x-python",
   "name": "python",
   "nbconvert_exporter": "python",
   "pygments_lexer": "ipython3",
   "version": "3.7.3"
  }
 },
 "nbformat": 4,
 "nbformat_minor": 2
}
