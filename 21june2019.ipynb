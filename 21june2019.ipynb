{
 "cells": [
  {
   "cell_type": "code",
   "execution_count": null,
   "metadata": {},
   "outputs": [],
   "source": [
    "def ISBN(c):\n",
    "    return [i*int(c[i]) for i in range(len(c))][0]\n",
    "a=input()\n",
    "a=ISBN(a) if len(a) ==10 else print(\"ILLegal ISBN\")\n",
    "if a!=None:\n",
    "    a=print(\"legal ISBN\") if a%11==0 else print(\"Illegal ISBN\")"
   ]
  },
  {
   "cell_type": "code",
   "execution_count": null,
   "metadata": {},
   "outputs": [],
   "source": [
    "#Anagram\n",
    "for _ in range(int(input())):\n",
    "    a=input()\n",
    "    b=input()\n",
    "    a1=[0]*26\n",
    "    b1=[0]*26\n",
    "    for ele in a:\n",
    "        a1[ord(ele)-97]+=1\n",
    "    for ele in b:\n",
    "        b1[ord(ele)-97]+=1\n",
    "    res=0\n",
    "    for i in range(26):\n",
    "        res=res+(abs(a1[i]-b1[i]))\n",
    "    print(res)"
   ]
  },
  {
   "cell_type": "code",
   "execution_count": 1,
   "metadata": {},
   "outputs": [
    {
     "name": "stdout",
     "output_type": "stream",
     "text": [
      "13\n",
      "Motu\n"
     ]
    }
   ],
   "source": [
    "# Bricks\n",
    "n=int(input())\n",
    "i=1\n",
    "s=0\n",
    "while s<n:\n",
    "    s=s+(i*3)\n",
    "    if s>n:\n",
    "        s=s-(i*3)\n",
    "        if (n-s)<=i:\n",
    "            print(\"Patlu\")\n",
    "            break\n",
    "        else:\n",
    "            print(\"Motu\")\n",
    "            break\n",
    "    i+=1"
   ]
  },
  {
   "cell_type": "code",
   "execution_count": 3,
   "metadata": {},
   "outputs": [],
   "source": [
    "# Function To add a Contacts\n",
    "fname='DataFiles/contact.txt'\n",
    "f=open(fname,'a')\n",
    "f.write(\"\\nvidya,8897523679,vidya22@gmail.com\")\n",
    "f.close()\n",
    "\n",
    "    "
   ]
  },
  {
   "cell_type": "code",
   "execution_count": 8,
   "metadata": {},
   "outputs": [
    {
     "name": "stdout",
     "output_type": "stream",
     "text": [
      "\n",
      " vidya,8897523679,vidya22@gmail.com "
     ]
    }
   ],
   "source": [
    "with open(fname,'r') as f:\n",
    "    for line in f.readlines():\n",
    "        print(line,end=' ')"
   ]
  },
  {
   "cell_type": "code",
   "execution_count": 5,
   "metadata": {},
   "outputs": [
    {
     "name": "stdout",
     "output_type": "stream",
     "text": [
      "False\n"
     ]
    }
   ],
   "source": [
    "import re\n",
    "# Function to check if contact already exists\n",
    "def checkContactExists(name):\n",
    "    fname = 'DataFiles/contacts.txt'\n",
    "    f=open(fname, 'r')\n",
    "    fdata = f.read()\n",
    "    pattern = name+','\n",
    "    return re.search(pattern, fdata)\n",
    "if checkContactExists(\"name5\"):\n",
    "    print(\"True\")\n",
    "else:\n",
    "    print(\"False\")\n",
    "        \n",
    "\n",
    "#addContact('name2', 8897523679, 'name2_34@gmail.com')\n"
   ]
  },
  {
   "cell_type": "code",
   "execution_count": 10,
   "metadata": {},
   "outputs": [
    {
     "name": "stdout",
     "output_type": "stream",
     "text": [
      "sree1 add to contacts\n"
     ]
    }
   ],
   "source": [
    "from Packages.validator import phoneNumberValidator as pnv,emailValidator as ev\n",
    "def addContact(name,phone,email):\n",
    "    if not checkContactExists(name):\n",
    "        if pnv(phone):\n",
    "            if ev(email):\n",
    "                f=open(\"DataFiles/contacts.txt\",'a')\n",
    "                line=name+',' +str(phone)+',' +email+'\\n'\n",
    "                f.write(line)\n",
    "                print(name,\"add to contacts\")\n",
    "        else:\n",
    "            print(\"invalid email\")\n",
    "    else:\n",
    "        print(name, 'already exists')\n",
    "    return\n",
    "addContact(\"sree1\",8897523679,\"sreerockey22@gmail.com\")"
   ]
  },
  {
   "cell_type": "code",
   "execution_count": 12,
   "metadata": {},
   "outputs": [
    {
     "data": {
      "text/plain": [
       "'vidyasreechintala\\nsree\\nchintalavidya,9966441324,vidyarockey22@gmail.com\\nsreevidya,8897523679,rockey22@gmail.com\\nsree,8897523679,rockey22@gmail.com\\nsree1,8897523679,sreerockey22@gmail.com\\n'"
      ]
     },
     "execution_count": 12,
     "metadata": {},
     "output_type": "execute_result"
    }
   ],
   "source": [
    "fname = 'DataFiles/contacts.txt'\n",
    "def csvToList(fname):\n",
    "    li = []\n",
    "    f=open(fname,'r')\n",
    "    for line in f:\n",
    "        li.append(line.split(','))\n",
    "    return li\n",
    "\n",
    "def listToFile(li):\n",
    "    s = ''\n",
    "    for i in li:\n",
    "        s += ','.join(i)\n",
    "    return s\n",
    "    \n",
    "li = csvToList(fname)\n",
    "listToFile(li)"
   ]
  },
  {
   "cell_type": "code",
   "execution_count": null,
   "metadata": {},
   "outputs": [],
   "source": []
  }
 ],
 "metadata": {
  "kernelspec": {
   "display_name": "Python 3",
   "language": "python",
   "name": "python3"
  },
  "language_info": {
   "codemirror_mode": {
    "name": "ipython",
    "version": 3
   },
   "file_extension": ".py",
   "mimetype": "text/x-python",
   "name": "python",
   "nbconvert_exporter": "python",
   "pygments_lexer": "ipython3",
   "version": "3.7.3"
  }
 },
 "nbformat": 4,
 "nbformat_minor": 2
}
