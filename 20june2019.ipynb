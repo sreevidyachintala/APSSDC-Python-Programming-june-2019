{
 "cells": [
  {
   "cell_type": "code",
   "execution_count": 21,
   "metadata": {},
   "outputs": [
    {
     "name": "stdout",
     "output_type": "stream",
     "text": [
      "valid pattern\n"
     ]
    }
   ],
   "source": [
    "# Contact Application\n",
    "#Function to validate a phone number in python using regular expresions\n",
    "\n",
    "import re\n",
    "def PhoneNumber(number):\n",
    "    pat=\"^[6-9][0-9]{9}$|^[0][6-9][0-9]{9}$\"\n",
    "    if re.match(pat,str(number)):\n",
    "        print(\"valid pattern\")\n",
    "    else:\n",
    "        print(\"invalid pattern\")\n",
    "    return\n",
    "PhoneNumber(9876543284)"
   ]
  },
  {
   "cell_type": "code",
   "execution_count": 73,
   "metadata": {},
   "outputs": [
    {
     "name": "stdout",
     "output_type": "stream",
     "text": [
      "valid pattern\n",
      "valid pattern\n",
      "phone number %s invalid\n"
     ]
    }
   ],
   "source": [
    "contact = {}\n",
    "def addcontact(name, phone):\n",
    "    # verify that the contact doesnot already exist\n",
    "    if name not in contact and PhoneNumber(phone):\n",
    "        contact[name]=phone\n",
    "        print(\"contact %s added\" % name)\n",
    "    if not PhoneNumber(phone):\n",
    "        print(\"phone number %s invalid\")\n",
    "    return \n",
    "addcontact(\"sreevidya\", \"8897523679\")"
   ]
  },
  {
   "cell_type": "code",
   "execution_count": 35,
   "metadata": {},
   "outputs": [
    {
     "data": {
      "text/plain": [
       "dict_values([])"
      ]
     },
     "execution_count": 35,
     "metadata": {},
     "output_type": "execute_result"
    }
   ],
   "source": [
    "contact.values()"
   ]
  },
  {
   "cell_type": "code",
   "execution_count": 75,
   "metadata": {},
   "outputs": [
    {
     "data": {
      "text/plain": [
       "True"
      ]
     },
     "execution_count": 75,
     "metadata": {},
     "output_type": "execute_result"
    }
   ],
   "source": [
    "import re\n",
    "def emailValidator(email):\n",
    "    pat='[0-9a-z][0-9a-z_.]{4,13}[0-9a-z][@][a-z0-9]{3,18}[.][a-z0-9]{2,4}$'\n",
    "    if re.match(pat,(email)):\n",
    "        return True\n",
    "    else:\n",
    "        return False\n",
    "emailValidator('vidyachintala22@gmail.com')"
   ]
  },
  {
   "cell_type": "code",
   "execution_count": 76,
   "metadata": {},
   "outputs": [
    {
     "data": {
      "text/plain": [
       "{'name1': [8897523679, 'vidyachintala22@gmail.com'],\n",
       " 'name2': [9966441324, 'sreevidya.c@apssdc.in']}"
      ]
     },
     "execution_count": 76,
     "metadata": {},
     "output_type": "execute_result"
    }
   ],
   "source": [
    "contact = {\"name1\":[8897523679,\"vidyachintala22@gmail.com\"],\"name2\":[9966441324,\"sreevidya.c@apssdc.in\"]}\n",
    "contact"
   ]
  },
  {
   "cell_type": "code",
   "execution_count": 77,
   "metadata": {},
   "outputs": [
    {
     "name": "stdout",
     "output_type": "stream",
     "text": [
      "valid pattern\n",
      "invalid  Phone\n",
      "valid email\n",
      "name3 added successfully\n"
     ]
    },
    {
     "data": {
      "text/plain": [
       "{'name1': [8897523679, 'vidyachintala22@gmail.com'],\n",
       " 'name2': [9966441324, 'sreevidya.c@apssdc.in'],\n",
       " 'name3': [9000123200, 'sreevidyachintala16@gmail.com']}"
      ]
     },
     "execution_count": 77,
     "metadata": {},
     "output_type": "execute_result"
    }
   ],
   "source": [
    "def addcontact(name, phone, email):\n",
    "    if name in contact:\n",
    "        print(name,\"already exists\")\n",
    "    else:\n",
    "        if not PhoneNumber(phone):\n",
    "            print(\"invalid  Phone\")\n",
    "        if not emailValidator(email):\n",
    "            print(\"valid email\")\n",
    "    newcontact=[]\n",
    "    newcontact.append(phone)\n",
    "    newcontact.append(email)\n",
    "    contact[name] = newcontact\n",
    "    print(name,\"added successfully\")\n",
    "addcontact(\"name3\",9000123200,\"sreevidyachintala16@gmail.com\")\n",
    "contact\n",
    "    "
   ]
  },
  {
   "cell_type": "code",
   "execution_count": 81,
   "metadata": {},
   "outputs": [
    {
     "name": "stdout",
     "output_type": "stream",
     "text": [
      "name3\n",
      "phone : 9000123200\n",
      "phone : sreevidyachintala16@gmail.com\n"
     ]
    }
   ],
   "source": [
    "def SearchContact(name):\n",
    "    if name in contact:\n",
    "        print(name)\n",
    "        print(\"phone :\",contact[name][0])\n",
    "        print(\"phone :\",contact[name][1])\n",
    "        \n",
    "    else:\n",
    "        print(\"does not exits\",name)\n",
    "    return\n",
    "SearchContact(\"name3\")"
   ]
  },
  {
   "cell_type": "code",
   "execution_count": 84,
   "metadata": {},
   "outputs": [
    {
     "name": "stdout",
     "output_type": "stream",
     "text": [
      "1 added successfully\n"
     ]
    },
    {
     "data": {
      "text/plain": [
       "dict_items([('name1', [8897523679, 'vidyachintala22@gmail.com']), ('name2', [9966441324, 'sreevidya.c@apssdc.in']), ('name3', [9000123200, 'sreevidyachintala16@gmail.com']), ('name4', [832832340011, 'rockey22@gmail.com'])])"
      ]
     },
     "execution_count": 84,
     "metadata": {},
     "output_type": "execute_result"
    }
   ],
   "source": [
    "# import contact\n",
    "\n",
    "def importcontact(newcontact):\n",
    "    contact.update(newcontact)\n",
    "    print(len(newcontact.keys()),\"added successfully\")\n",
    "    return\n",
    "newcontact={\"name4\":[832832340011,\"rockey22@gmail.com\"]}\n",
    "importcontact(newcontact)\n",
    "contact.items()"
   ]
  },
  {
   "cell_type": "code",
   "execution_count": 88,
   "metadata": {},
   "outputs": [
    {
     "name": "stdout",
     "output_type": "stream",
     "text": [
      "name1 \n",
      " phone 8897523679 \n",
      " email vidyachintala22@gmail.com\n",
      "name2 \n",
      " phone 9966441324 \n",
      " email sreevidya.c@apssdc.in\n",
      "name3 \n",
      " phone 9000123200 \n",
      " email sreevidyachintala16@gmail.com\n",
      "name4 \n",
      " phone 832832340011 \n",
      " email rockey22@gmail.com\n"
     ]
    }
   ],
   "source": [
    "# list all contacts\n",
    "def Listcontact():\n",
    "    for contacts,info in contact.items():\n",
    "        print(contacts,\"\\n\",\"phone\",info[0],\"\\n\",\"email\",info[1])\n",
    "    return\n",
    "Listcontact()"
   ]
  },
  {
   "cell_type": "markdown",
   "metadata": {},
   "source": [
    "## File Handling in python\n",
    "\n",
    "File -Document Containg information residing on the permanent storage\n",
    "\n",
    "Types -Text,PDF,CSV\n",
    "\n",
    "\n",
    "File I/O - Channelling I/O data to files\n",
    "\n",
    "Default I/O Channels - Keyboard / screens\n",
    "\n",
    "Change I/O channel to files for Reading Writing into file\n",
    "\n",
    "Read a File - Input  from a file\n",
    "\n",
    "Write to a file - Output to a File\n",
    "\n",
    "Read/Write file - open(filename,mode)\n",
    "\n",
    "\n",
    "\n",
    "\n"
   ]
  },
  {
   "cell_type": "code",
   "execution_count": 51,
   "metadata": {},
   "outputs": [
    {
     "name": "stdout",
     "output_type": "stream",
     "text": [
      "Sreevidya\n",
      "Chintala\n",
      "Gudlabvalleru\n",
      "\n",
      "Sreevidya\n",
      "\n",
      "Chintala\n",
      "\n",
      "Gudlabvalleru\n",
      "\n"
     ]
    }
   ],
   "source": [
    "# Function to Read a file\n",
    "\n",
    "def readFile(fname):\n",
    "    f=open(fname,'r')\n",
    "    fdata=f.read()\n",
    "    f.close()\n",
    "    return fdata\n",
    "fname=\"DataFiles/data.txt\"\n",
    "fdata=readFile(fname)\n",
    "for line in fdata.split('\\n'):\n",
    "    print(line)\n",
    "\n",
    "def printFiledataLines(fname):\n",
    "    f=open(fname,'r')\n",
    "    for line in f:\n",
    "        print(line)\n",
    "    return\n",
    "printFiledataLines(fname)"
   ]
  },
  {
   "cell_type": "code",
   "execution_count": 57,
   "metadata": {},
   "outputs": [],
   "source": [
    "# Function To write the file\n",
    "def writeFile(fname,fdata):\n",
    "    f=open(fname,'w')\n",
    "    f.write(fdata)\n",
    "    return\n",
    "    f.close()\n",
    "#fname=\"DataFiles/data.txt\"\n",
    "writeFile(\"DataFiles/data.txt\",\"Good Evening\")"
   ]
  },
  {
   "cell_type": "code",
   "execution_count": 72,
   "metadata": {},
   "outputs": [],
   "source": [
    "# Function to Append Data\n",
    "\n",
    "def appendFile(fname,fdata):\n",
    "    f=open(fname,'a')\n",
    "    for line in fdata:\n",
    "        f.write('\\n'+line)\n",
    "    return\n",
    "    f.close()\n",
    "fname=\"DataFiles/data.txt\" \n",
    "fdata=[\"sree\",\"chintala\"]\n",
    "appendFile(fname,fdata)"
   ]
  },
  {
   "cell_type": "code",
   "execution_count": null,
   "metadata": {},
   "outputs": [],
   "source": []
  }
 ],
 "metadata": {
  "kernelspec": {
   "display_name": "Python 3",
   "language": "python",
   "name": "python3"
  },
  "language_info": {
   "codemirror_mode": {
    "name": "ipython",
    "version": 3
   },
   "file_extension": ".py",
   "mimetype": "text/x-python",
   "name": "python",
   "nbconvert_exporter": "python",
   "pygments_lexer": "ipython3",
   "version": "3.7.3"
  }
 },
 "nbformat": 4,
 "nbformat_minor": 2
}
