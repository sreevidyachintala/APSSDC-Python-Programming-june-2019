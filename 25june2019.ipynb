{
 "cells": [
  {
   "cell_type": "code",
   "execution_count": 3,
   "metadata": {},
   "outputs": [
    {
     "name": "stdout",
     "output_type": "stream",
     "text": [
      "213abc456def111\n",
      "0 4 1 1 1 1 1 0 0 0 "
     ]
    }
   ],
   "source": [
    "#Practice Test q1 Digit Frequency\n",
    "c=input()\n",
    "for i in range(0,10):\n",
    "    print(c.count(str(i)),end=' ')"
   ]
  },
  {
   "cell_type": "code",
   "execution_count": 3,
   "metadata": {},
   "outputs": [
    {
     "name": "stdout",
     "output_type": "stream",
     "text": [
      "10\n",
      "0\n",
      "100\n"
     ]
    }
   ],
   "source": [
    "#Generate marks Apllication\n",
    "from random import randint\n",
    "def marksgen(n,lb,ub):\n",
    "    with open(\"DataFiles/marks.txt\",\"w\") as f:\n",
    "        for i in range(0,n):\n",
    "            r=randint(lb,ub)\n",
    "            f.write(str(r) + '\\n')\n",
    "        f.close()\n",
    "        return\n",
    "n=int(input())\n",
    "lb=int(input())\n",
    "ub=int(input())\n",
    "marksgen(n,lb,ub)\n"
   ]
  },
  {
   "cell_type": "code",
   "execution_count": 5,
   "metadata": {},
   "outputs": [
    {
     "data": {
      "text/plain": [
       "41.5"
      ]
     },
     "execution_count": 5,
     "metadata": {},
     "output_type": "execute_result"
    }
   ],
   "source": [
    "# Class Average\n",
    "def classaverage(fpath):\n",
    "    fpath=open(\"DataFiles/marks.txt\",'r')\n",
    "    c=fpath.read()\n",
    "    #print(c)\n",
    "    sum=0\n",
    "    for i in c.split():\n",
    "        sum=sum+int(i)\n",
    "    return (sum/n)\n",
    "classaverage(10000)"
   ]
  },
  {
   "cell_type": "code",
   "execution_count": 8,
   "metadata": {},
   "outputs": [
    {
     "name": "stdout",
     "output_type": "stream",
     "text": [
      "13\n",
      "36\n",
      "62\n",
      "32\n",
      "44\n",
      "12\n",
      "87\n",
      "50\n",
      "50\n",
      "29\n",
      "\n"
     ]
    },
    {
     "data": {
      "text/plain": [
       "60.0"
      ]
     },
     "execution_count": 8,
     "metadata": {},
     "output_type": "execute_result"
    }
   ],
   "source": [
    "#Pass Percentage\n",
    "def passpercentage():\n",
    "    with open(\"DataFiles/marks.txt\") as f:\n",
    "        fh=f.read()\n",
    "        print(fh)\n",
    "        c=0\n",
    "       \n",
    "        #n=10000\n",
    "        for i in fh.split():\n",
    "            if int(i)>=35:\n",
    "                c+=1\n",
    "            percentage=(c/len(fh.split())*100)\n",
    "        return percentage\n",
    "passpercentage()"
   ]
  },
  {
   "cell_type": "code",
   "execution_count": 6,
   "metadata": {},
   "outputs": [
    {
     "name": "stdout",
     "output_type": "stream",
     "text": [
      "13\n",
      "36\n",
      "62\n",
      "32\n",
      "44\n",
      "12\n",
      "87\n",
      "50\n",
      "50\n",
      "29\n",
      "\n"
     ]
    },
    {
     "data": {
      "text/plain": [
       "40.0"
      ]
     },
     "execution_count": 6,
     "metadata": {},
     "output_type": "execute_result"
    }
   ],
   "source": [
    "# Fail Percentage\n",
    "\n",
    "def failpercentage(fpath):\n",
    "    with open(\"DataFiles/marks.txt\",'r') as fpath:\n",
    "        fh=fpath.read()\n",
    "        print(fh)\n",
    "        sum=0\n",
    "        count=0\n",
    "        for i in fh.split():\n",
    "            if int(i)<35:\n",
    "                sum=sum+int(i)\n",
    "                count+=1\n",
    "                average=sum/count\n",
    "                percentage=(count/len(fh.split())*100)\n",
    "        return percentage\n",
    "fpath=open(\"DataFiles/marks.txt\",'r')\n",
    "failpercentage(fpath)\n",
    "        "
   ]
  },
  {
   "cell_type": "code",
   "execution_count": 8,
   "metadata": {},
   "outputs": [
    {
     "data": {
      "text/plain": [
       "'13'"
      ]
     },
     "execution_count": 8,
     "metadata": {},
     "output_type": "execute_result"
    }
   ],
   "source": [
    "#fail percentage\n",
    "def failpercentage(fpath):\n",
    "    fpath=open(\"DataFiles/marks.txt\",'r')\n",
    "    c=fpath.read()\n",
    "    count=0\n",
    "    for i in c.split():\n",
    "        if int(i)>=90:\n",
    "            count=count+1\n",
    "        return i\n",
    "fpath=open(\"DataFiles/marks.txt\",'r')\n",
    "failpercentage(fpath)"
   ]
  },
  {
   "cell_type": "code",
   "execution_count": 9,
   "metadata": {},
   "outputs": [
    {
     "name": "stdout",
     "output_type": "stream",
     "text": [
      "9\n"
     ]
    }
   ],
   "source": [
    "#highest marks frequency\n",
    "def highestmarks():\n",
    "    with open(\"DataFiles/marks.txt\",'r') as fh:\n",
    "        c=fh.read()\n",
    "        for i in c.split():\n",
    "            highest=max(i)\n",
    "        print(highest)\n",
    "highestmarks()"
   ]
  },
  {
   "cell_type": "code",
   "execution_count": 11,
   "metadata": {},
   "outputs": [
    {
     "name": "stdout",
     "output_type": "stream",
     "text": [
      "2\n"
     ]
    }
   ],
   "source": [
    "#lowest marks frequency\n",
    "def lowestmarks():\n",
    "    with open(\"DataFiles/marks.txt\",'r') as fh:\n",
    "        c=fh.read()\n",
    "        for i in c.split():\n",
    "            lowest=min(i)\n",
    "        print(lowest)\n",
    "lowestmarks()"
   ]
  },
  {
   "cell_type": "code",
   "execution_count": 1,
   "metadata": {},
   "outputs": [],
   "source": [
    "# Find and  replace Application\n",
    "def FindandReplace(fpath):\n",
    "    \n",
    "#s1=''\n",
    "#s=''\n",
    "    with open(fpath, 'r')as f:\n",
    "        s1 = f.read().replace(\"picture\",\"vidya\", 1)\n",
    "     #sample2 = s1.replace(\"\", str(input_2), 1)\n",
    "    with open(fpath, 'w')as f:    \n",
    "        f.write(s1)\n",
    "fpath=\"DataFiles/sample.txt\"\n",
    "FindandReplace(fpath)"
   ]
  },
  {
   "cell_type": "code",
   "execution_count": 11,
   "metadata": {},
   "outputs": [],
   "source": [
    "#import re\n",
    "fname=\"DataFiles/sample.txt\"\n",
    "#pat=re.search('[a-z]{3,15}',fname)\n",
    "with open(\"fname\",'r') as f:\n",
    "    fname=f.read()\n",
    "    "
   ]
  },
  {
   "cell_type": "code",
   "execution_count": 2,
   "metadata": {},
   "outputs": [
    {
     "name": "stdout",
     "output_type": "stream",
     "text": [
      "Good 1\n",
      "Eveningsreevidya 1\n",
      "sreevidyasreevidyasreevidyavidya 1\n",
      "sree 1\n",
      "chintala 1\n"
     ]
    }
   ],
   "source": [
    "# count the total number of occurances of a word\n",
    "with open(\"DataFiles/data.txt\",\"r\") as f:\n",
    "    line={}\n",
    "    f1=f.read().split()\n",
    "    for line1 in f1:\n",
    "        if line1 not in line:\n",
    "            line[line1] = 1\n",
    "        else:\n",
    "            line[line1]+=1\n",
    "for k,v in line.items():\n",
    "    print(k,v)\n",
    "f.close()"
   ]
  },
  {
   "cell_type": "code",
   "execution_count": 8,
   "metadata": {},
   "outputs": [
    {
     "name": "stdout",
     "output_type": "stream",
     "text": [
      "Word           Count\n",
      "------------------\n",
      "chintala         4\n"
     ]
    }
   ],
   "source": [
    "FILE_NAME = 'DataFiles/data.txt'\n",
    "\n",
    "wordCounter = {}\n",
    "with open(FILE_NAME,'r') as fh:\n",
    "    for line in fh:\n",
    "        #word_list = line.replace(',','').replace('\\'','').replace('.','').lower().split()\n",
    "        for word in word_list:\n",
    "            if word not in wordCounter:\n",
    "                wordCounter[word] = 1\n",
    "            else:\n",
    "                wordCounter[word] = wordCounter[word] + 1\n",
    "\n",
    "print('{:15}{:3}'.format('Word','Count'))\n",
    "print('-' * 18)\n",
    "\n",
    "# printing the words and its occurrence.\n",
    "for  (word,occurance)  in wordCounter.items(): \n",
    "  print('{:15}{:3}'.format(word,occurance))"
   ]
  },
  {
   "cell_type": "code",
   "execution_count": null,
   "metadata": {},
   "outputs": [],
   "source": []
  }
 ],
 "metadata": {
  "kernelspec": {
   "display_name": "Python 3",
   "language": "python",
   "name": "python3"
  },
  "language_info": {
   "codemirror_mode": {
    "name": "ipython",
    "version": 3
   },
   "file_extension": ".py",
   "mimetype": "text/x-python",
   "name": "python",
   "nbconvert_exporter": "python",
   "pygments_lexer": "ipython3",
   "version": "3.7.3"
  }
 },
 "nbformat": 4,
 "nbformat_minor": 2
}
