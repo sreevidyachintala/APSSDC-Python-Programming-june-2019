{
 "cells": [
  {
   "cell_type": "code",
   "execution_count": 3,
   "metadata": {},
   "outputs": [],
   "source": [
    "def decistmt(s):\n",
    "    \n",
    "    result = []\n",
    "    g = generate_tokens(StringIO(s).readline)   # tokenize the string\n",
    "    for toknum, tokval, _, _, _  in g:\n",
    "        if toknum == NUMBER and '.' in tokval:  # replace NUMBER tokens\n",
    "            result.extend([\n",
    "                (NAME, 'Decimal'),\n",
    "                (OP, '('),\n",
    "                (STRING, repr(tokval)),\n",
    "                (OP, ')')\n",
    "            ])\n",
    "        else:\n",
    "            result.append((toknum, tokval))\n",
    "    return untokenize(result)"
   ]
  },
  {
   "cell_type": "code",
   "execution_count": null,
   "metadata": {},
   "outputs": [],
   "source": []
  },
  {
   "cell_type": "code",
   "execution_count": null,
   "metadata": {},
   "outputs": [],
   "source": []
  }
 ],
 "metadata": {
  "kernelspec": {
   "display_name": "Python 3",
   "language": "python",
   "name": "python3"
  },
  "language_info": {
   "codemirror_mode": {
    "name": "ipython",
    "version": 3
   },
   "file_extension": ".py",
   "mimetype": "text/x-python",
   "name": "python",
   "nbconvert_exporter": "python",
   "pygments_lexer": "ipython3",
   "version": "3.7.3"
  }
 },
 "nbformat": 4,
 "nbformat_minor": 2
}
