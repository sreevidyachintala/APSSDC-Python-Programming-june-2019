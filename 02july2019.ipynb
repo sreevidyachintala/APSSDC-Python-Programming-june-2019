{
 "cells": [
  {
   "cell_type": "code",
   "execution_count": null,
   "metadata": {},
   "outputs": [],
   "source": [
    "filelds=['name','branch','year']\n",
    "rows=[['vidya','cse','3']\n",
    "       ['sree','civil','2']]\n",
    "filename=\"DataFiles/data.csv\"\n",
    "with open(filename,'r') as fh:\n",
    "    csvwriter=csv.writer(fh)\n",
    "    csvwriter.writerow(fields) \n",
    "     csvwriter.writerows(rows)"
   ]
  },
  {
   "cell_type": "code",
   "execution_count": 3,
   "metadata": {},
   "outputs": [
    {
     "name": "stdout",
     "output_type": "stream",
     "text": [
      "Good Eveningsreevidya,good,good\n",
      " sreevidyasreevidyasreevidyavidya\n",
      "sree\n",
      "chintala\n"
     ]
    }
   ],
   "source": [
    "f=open(\"DataFiles/data.txt\",'r+')\n",
    "data=f.read()\n",
    "print(data)\n",
    "f.close()"
   ]
  },
  {
   "cell_type": "code",
   "execution_count": 11,
   "metadata": {},
   "outputs": [],
   "source": [
    "def WriteFile(fname,fdata):\n",
    "    f=open(fname,\"w+\")\n",
    "    f.write(fdata)\n",
    "    data=f.read()\n",
    "    return\n",
    "f.close()\n",
    "WriteFile(\"DataFiles/data.txt\",\"GoodMorning\")"
   ]
  },
  {
   "cell_type": "code",
   "execution_count": 32,
   "metadata": {},
   "outputs": [
    {
     "data": {
      "text/plain": [
       "'sdfljsbdf\\ndsflsdn\\nHellooooo'"
      ]
     },
     "execution_count": 32,
     "metadata": {},
     "output_type": "execute_result"
    }
   ],
   "source": [
    "with open(\"DataFiles/data.txt\",\"r\") as f:\n",
    "    #f.write(\"Good Evening\")\n",
    "    f.seek(30) # return the top of the file before reading,otherwise just read empty string\n",
    "    data=f.read()\n",
    "data"
   ]
  },
  {
   "cell_type": "code",
   "execution_count": null,
   "metadata": {},
   "outputs": [],
   "source": [
    "# file concepts\n",
    "\n",
    "\n",
    "  Read:\n",
    "        read()\n",
    "        readline()--to read first line\n",
    "        readline(4)-- to read only 4 characters\n",
    "        "
   ]
  },
  {
   "cell_type": "code",
   "execution_count": 23,
   "metadata": {},
   "outputs": [],
   "source": [
    "f=open(\"DataFiles/abc.txt\",'w')"
   ]
  },
  {
   "cell_type": "markdown",
   "metadata": {},
   "source": [
    "## File Handling\n",
    "\n",
    "\n"
   ]
  },
  {
   "cell_type": "code",
   "execution_count": 25,
   "metadata": {},
   "outputs": [
    {
     "name": "stdout",
     "output_type": "stream",
     "text": [
      "Good Evening\n",
      "fdklwf\n",
      "ergergergtrtgrtgrtgr\n",
      "tgrstgrtgrtgflbvdvl\n",
      "veklvbdkf\n"
     ]
    }
   ],
   "source": [
    "def ReadFile(fname):\n",
    "    f=open(\"DataFiles/data.txt\",'r')\n",
    "    data=f.read()\n",
    "    print(data)\n",
    "fname=\"DataFiles/data.txt\"\n",
    "ReadFile(fname)\n"
   ]
  },
  {
   "cell_type": "code",
   "execution_count": 47,
   "metadata": {},
   "outputs": [],
   "source": [
    "def WriteFile(fname,fdata):\n",
    "    f=open(\"DataFiles/data.txt\",'w')\n",
    "    f.write(fdata)\n",
    "    f.close()\n",
    "fname=\"DataFiles/data.txt\"\n",
    "WriteFile(fname,\"Good Moring \\n hello\")"
   ]
  },
  {
   "cell_type": "code",
   "execution_count": 28,
   "metadata": {},
   "outputs": [],
   "source": [
    "def AppendFile(fdata):\n",
    "    with open(\"DataFiles/data.txt\",'a') as fh:\n",
    "        fh.write(fdata)\n",
    "    fh.close()\n",
    "AppendFile(\" \\n Hellooooo\")"
   ]
  },
  {
   "cell_type": "code",
   "execution_count": 33,
   "metadata": {},
   "outputs": [
    {
     "name": "stdout",
     "output_type": "stream",
     "text": [
      "HiiiiMoringHellooooo \n",
      "dcshvdc\n",
      "sdfljsbdf\n",
      "dsflsdn\n",
      "Hellooooo\n"
     ]
    }
   ],
   "source": [
    "def ReadFile(fname):\n",
    "    f=open(\"DataFiles/data.txt\",'r+')\n",
    "    f.write(\"Hiiii\")\n",
    "    f.seek(0)\n",
    "    data=f.read()\n",
    "    print(data)\n",
    "fname=\"DataFiles/data.txt\"\n",
    "ReadFile(fname)"
   ]
  },
  {
   "cell_type": "code",
   "execution_count": 46,
   "metadata": {},
   "outputs": [
    {
     "name": "stdout",
     "output_type": "stream",
     "text": [
      "o world\n"
     ]
    }
   ],
   "source": [
    "with open(\"DataFiles/data.txt\",'w+') as fh:\n",
    "    fh.write(\"Hello world\")\n",
    "    fh.seek(4)\n",
    "    data=fh.read()\n",
    "    print(data)\n",
    "fh.close()    "
   ]
  },
  {
   "cell_type": "code",
   "execution_count": 39,
   "metadata": {},
   "outputs": [
    {
     "name": "stdout",
     "output_type": "stream",
     "text": [
      "o worldHello worldHello Python\n"
     ]
    }
   ],
   "source": [
    "with open(\"DataFiles/data.txt\",'a+') as fh:\n",
    "    fh.write(\"Hello Python\")\n",
    "    fh.seek(4)\n",
    "    data=fh.read()\n",
    "    print(data)\n",
    "fh.close()    "
   ]
  },
  {
   "cell_type": "code",
   "execution_count": 41,
   "metadata": {},
   "outputs": [
    {
     "ename": "FileExistsError",
     "evalue": "[Errno 17] File exists: 'DataFiles/1234.txt'",
     "output_type": "error",
     "traceback": [
      "\u001b[1;31m---------------------------------------------------------------------------\u001b[0m",
      "\u001b[1;31mFileExistsError\u001b[0m                           Traceback (most recent call last)",
      "\u001b[1;32m<ipython-input-41-ff0c8aa9c6c0>\u001b[0m in \u001b[0;36m<module>\u001b[1;34m\u001b[0m\n\u001b[1;32m----> 1\u001b[1;33m \u001b[0mf\u001b[0m\u001b[1;33m=\u001b[0m\u001b[0mopen\u001b[0m\u001b[1;33m(\u001b[0m\u001b[1;34m\"DataFiles/1234.txt\"\u001b[0m\u001b[1;33m,\u001b[0m \u001b[1;34m'x'\u001b[0m\u001b[1;33m)\u001b[0m\u001b[1;33m\u001b[0m\u001b[1;33m\u001b[0m\u001b[0m\n\u001b[0m\u001b[0;32m      2\u001b[0m \u001b[0mprint\u001b[0m\u001b[1;33m(\u001b[0m\u001b[0mf\u001b[0m\u001b[1;33m)\u001b[0m\u001b[1;33m\u001b[0m\u001b[1;33m\u001b[0m\u001b[0m\n\u001b[0;32m      3\u001b[0m \u001b[0mf\u001b[0m\u001b[1;33m.\u001b[0m\u001b[0mclose\u001b[0m\u001b[1;33m(\u001b[0m\u001b[1;33m)\u001b[0m\u001b[1;33m\u001b[0m\u001b[1;33m\u001b[0m\u001b[0m\n",
      "\u001b[1;31mFileExistsError\u001b[0m: [Errno 17] File exists: 'DataFiles/1234.txt'"
     ]
    }
   ],
   "source": [
    "f=open(\"DataFiles/1234.txt\", 'x')\n",
    "print(f)\n",
    "f.close()"
   ]
  },
  {
   "cell_type": "code",
   "execution_count": 44,
   "metadata": {},
   "outputs": [
    {
     "ename": "FileExistsError",
     "evalue": "[Errno 17] File exists: 'DataFiles/1234567.txt'",
     "output_type": "error",
     "traceback": [
      "\u001b[1;31m---------------------------------------------------------------------------\u001b[0m",
      "\u001b[1;31mFileExistsError\u001b[0m                           Traceback (most recent call last)",
      "\u001b[1;32m<ipython-input-44-bff523c218d6>\u001b[0m in \u001b[0;36m<module>\u001b[1;34m\u001b[0m\n\u001b[1;32m----> 1\u001b[1;33m \u001b[0mf\u001b[0m\u001b[1;33m=\u001b[0m\u001b[0mopen\u001b[0m\u001b[1;33m(\u001b[0m\u001b[1;34m\"DataFiles/1234567.txt\"\u001b[0m\u001b[1;33m,\u001b[0m \u001b[1;34m'x'\u001b[0m\u001b[1;33m)\u001b[0m\u001b[1;33m\u001b[0m\u001b[1;33m\u001b[0m\u001b[0m\n\u001b[0m\u001b[0;32m      2\u001b[0m \u001b[0mf\u001b[0m\u001b[1;33m.\u001b[0m\u001b[0mwrite\u001b[0m\u001b[1;33m(\u001b[0m\u001b[1;34m\"hello\"\u001b[0m\u001b[1;33m)\u001b[0m\u001b[1;33m\u001b[0m\u001b[1;33m\u001b[0m\u001b[0m\n\u001b[0;32m      3\u001b[0m \u001b[0mprint\u001b[0m\u001b[1;33m(\u001b[0m\u001b[0mf\u001b[0m\u001b[1;33m)\u001b[0m\u001b[1;33m\u001b[0m\u001b[1;33m\u001b[0m\u001b[0m\n\u001b[0;32m      4\u001b[0m \u001b[0mf\u001b[0m\u001b[1;33m.\u001b[0m\u001b[0mclose\u001b[0m\u001b[1;33m(\u001b[0m\u001b[1;33m)\u001b[0m\u001b[1;33m\u001b[0m\u001b[1;33m\u001b[0m\u001b[0m\n",
      "\u001b[1;31mFileExistsError\u001b[0m: [Errno 17] File exists: 'DataFiles/1234567.txt'"
     ]
    }
   ],
   "source": [
    "f=open(\"DataFiles/1234567.txt\", 'x')\n",
    "#f.write(\"hello\")\n",
    "print(f)\n",
    "f.close()"
   ]
  },
  {
   "cell_type": "code",
   "execution_count": null,
   "metadata": {},
   "outputs": [],
   "source": []
  }
 ],
 "metadata": {
  "kernelspec": {
   "display_name": "Python 3",
   "language": "python",
   "name": "python3"
  },
  "language_info": {
   "codemirror_mode": {
    "name": "ipython",
    "version": 3
   },
   "file_extension": ".py",
   "mimetype": "text/x-python",
   "name": "python",
   "nbconvert_exporter": "python",
   "pygments_lexer": "ipython3",
   "version": "3.7.3"
  }
 },
 "nbformat": 4,
 "nbformat_minor": 2
}
