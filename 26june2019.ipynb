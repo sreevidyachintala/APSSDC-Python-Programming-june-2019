{
 "cells": [
  {
   "cell_type": "code",
   "execution_count": 56,
   "metadata": {},
   "outputs": [
    {
     "data": {
      "text/plain": [
       "6"
      ]
     },
     "execution_count": 56,
     "metadata": {},
     "output_type": "execute_result"
    }
   ],
   "source": [
    "# Function to find The second largest number\n",
    "\n",
    "def secondLargest(li):\n",
    "    # Convert the list into unique list\n",
    "    # O(n)[order of time complexity]\n",
    "    unique=[]\n",
    "    for i in li:\n",
    "        if i not in unique:\n",
    "            unique.append(i)\n",
    "    unique = sorted(unique,reverse=True)\n",
    "    return unique[1]\n",
    "secondLargest([1,2,3,4,5,5,6,7,3,4,4,4,4])\n",
    "\n",
    "    "
   ]
  },
  {
   "cell_type": "code",
   "execution_count": 5,
   "metadata": {},
   "outputs": [
    {
     "data": {
      "text/plain": [
       "3"
      ]
     },
     "execution_count": 5,
     "metadata": {},
     "output_type": "execute_result"
    }
   ],
   "source": [
    "# Function to find the fifth largest number\n",
    "def fifthLargest(li):\n",
    "    unique=[]\n",
    "    for i in li:\n",
    "        if i not in unique:\n",
    "            unique.append(i)\n",
    "    unique = sorted(unique,reverse=True)\n",
    "    return unique[4]\n",
    "fifthLargest([2,1,3,4,5,6,7])\n",
    "    "
   ]
  },
  {
   "cell_type": "code",
   "execution_count": 22,
   "metadata": {},
   "outputs": [
    {
     "name": "stdout",
     "output_type": "stream",
     "text": [
      "8\n"
     ]
    }
   ],
   "source": [
    " \n",
    "# function to find Ksmallest number\n",
    "def Kthsmallest(li,k):\n",
    "    li=sorted(li)\n",
    "    print(li[k-1])\n",
    "Kthsmallest([2,4,8,5,7,9],5)"
   ]
  },
  {
   "cell_type": "code",
   "execution_count": 24,
   "metadata": {},
   "outputs": [
    {
     "name": "stdout",
     "output_type": "stream",
     "text": [
      "50 30 23 12 "
     ]
    }
   ],
   "source": [
    "# Function To find KLargest number\n",
    "def KthLargest(li,k):\n",
    "    li.sort(reverse=True)\n",
    "    for i in range(k):\n",
    "        print(li[i],end=' ')\n",
    "KthLargest([1, 23, 12, 9, 30, 2, 50],4)"
   ]
  },
  {
   "cell_type": "code",
   "execution_count": 2,
   "metadata": {},
   "outputs": [
    {
     "data": {
      "text/plain": [
       "2"
      ]
     },
     "execution_count": 2,
     "metadata": {},
     "output_type": "execute_result"
    }
   ],
   "source": [
    "# Element With highest Frequency in a list\n",
    "def highestFrequencyElement(li):\n",
    "    highest=0\n",
    "    result=li[0]\n",
    "    for i in li:\n",
    "        fre=li.count(i)\n",
    "        if fre>highest:\n",
    "            highest=fre\n",
    "            result=i\n",
    "    return result\n",
    "highestFrequencyElement([1,2,3,9,8,7,3,4,2,1,1,2,2])\n"
   ]
  },
  {
   "cell_type": "code",
   "execution_count": 47,
   "metadata": {},
   "outputs": [
    {
     "data": {
      "text/plain": [
       "1"
      ]
     },
     "execution_count": 47,
     "metadata": {},
     "output_type": "execute_result"
    }
   ],
   "source": [
    "# Element With highest and smallest Frequency in a list\n",
    "def frequency(li):\n",
    "    unique={}\n",
    "    for n in li:\n",
    "        if n in unique:\n",
    "            unique[n] +=1\n",
    "        else:\n",
    "            unique[n] = 1\n",
    "    highestfre=max(unique.values())\n",
    "    \n",
    "    highestfrekeys=[]\n",
    "    for item in unique.items():\n",
    "        if item[1] == highestfre:\n",
    "            highestfrekeys.append(item[0])\n",
    "    \n",
    "    return min(highestfrekeys)   \n",
    "frequency([1,2,3,9,8,7,3,4,2,1])\n",
    "    \n",
    "        "
   ]
  },
  {
   "cell_type": "code",
   "execution_count": 1,
   "metadata": {},
   "outputs": [
    {
     "data": {
      "text/plain": [
       "2"
      ]
     },
     "execution_count": 1,
     "metadata": {},
     "output_type": "execute_result"
    }
   ],
   "source": [
    "# Function To identify second highest frequency \n",
    "\n",
    "def SecondHighest(li):\n",
    "    unique={}\n",
    "    for n in li:\n",
    "        if n in unique:\n",
    "            unique[n] +=1\n",
    "        else:\n",
    "            unique[n] =1\n",
    "    highestfre=max(unique.values())\n",
    "    return highestfre\n",
    "SecondHighest([1,2,3,2,1,4,4,9])\n"
   ]
  },
  {
   "cell_type": "code",
   "execution_count": 24,
   "metadata": {},
   "outputs": [
    {
     "name": "stdout",
     "output_type": "stream",
     "text": [
      "10\n",
      "s\n",
      "g\n",
      "h\n",
      "e\n",
      "w\n",
      "r\n",
      "n\n",
      "k\n",
      "-1\n",
      "-1\n"
     ]
    }
   ],
   "source": [
    "# function To identify the kth highest frequency\n",
    "[9,8,7,6,5,2,3,4,9,6,7,7,7,4,7]\n",
    "def kLargestFrequency(s, k):\n",
    "    f = {}\n",
    "    for a in s:\n",
    "        if a in f:\n",
    "            f[a] +=1\n",
    "        else:\n",
    "            f[a] =1\n",
    "    #return f\n",
    "    #Extract All unique frequencies\n",
    "    # ffreq =[2,1,5,4]\n",
    "    ffreq=[]\n",
    "    for value in f.values():\n",
    "        if value not in ffreq:\n",
    "            ffreq.append(value)\n",
    "    ffreq = sorted(ffreq,reverse = True)\n",
    "    if k<len(ffreq):\n",
    "        kfreq=ffreq[k-1]\n",
    "    else:\n",
    "        return -1\n",
    "    kfreqchar = []\n",
    "    for item in f.items():\n",
    "        if item[1] == kfreq:\n",
    "            kfreqchar.append(item[0])\n",
    "    return min(kfreqchar)\n",
    "\n",
    "\n",
    "with open(\"DataFiles/k-largest-frequency-input.txt\",\"r\") as fh:\n",
    "    t=int(fh.readline())\n",
    "    print(t)\n",
    "    for i in range(t):\n",
    "        s=fh.readline()\n",
    "        k=int(fh.readline())\n",
    "        print(kLargestFrequency(s,k))\n",
    "    #return kfreq\n",
    "    \n",
    "    #return ffreq\n",
    "\n",
    "\n",
    "     \n"
   ]
  },
  {
   "cell_type": "code",
   "execution_count": null,
   "metadata": {},
   "outputs": [],
   "source": [
    "# Kth lowest"
   ]
  }
 ],
 "metadata": {
  "kernelspec": {
   "display_name": "Python 3",
   "language": "python",
   "name": "python3"
  },
  "language_info": {
   "codemirror_mode": {
    "name": "ipython",
    "version": 3
   },
   "file_extension": ".py",
   "mimetype": "text/x-python",
   "name": "python",
   "nbconvert_exporter": "python",
   "pygments_lexer": "ipython3",
   "version": "3.7.3"
  }
 },
 "nbformat": 4,
 "nbformat_minor": 2
}
