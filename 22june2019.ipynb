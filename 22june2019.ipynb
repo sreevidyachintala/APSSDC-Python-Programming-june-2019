{
 "cells": [
  {
   "cell_type": "code",
   "execution_count": 2,
   "metadata": {},
   "outputs": [
    {
     "name": "stdout",
     "output_type": "stream",
     "text": [
      "Good Eveningsreevidya\n",
      " sreevidyasreevidyasreevidyavidya\n",
      "sree\n",
      "chintala\n"
     ]
    }
   ],
   "source": [
    "# Read a file\n",
    "#write file\n",
    "def ReadFile(fpath):\n",
    "    f=open(fpath,'r')\n",
    "    fdata=f.read()\n",
    "    return fdata\n",
    "print(ReadFile(fpath=\"DataFiles/data.txt\"))"
   ]
  },
  {
   "cell_type": "code",
   "execution_count": 6,
   "metadata": {},
   "outputs": [
    {
     "name": "stdout",
     "output_type": "stream",
     "text": [
      "3\n"
     ]
    }
   ],
   "source": [
    "# line numbers and line count\n",
    "fh=open(\"DataFiles/sample.txt\",'r')\n",
    "lineno=1\n",
    "lines=fh.readlines()\n",
    "fw=open(\"DataFiles/sample.txt\",'w')\n",
    "for line in lines:\n",
    "    print(lineno,line,end=' ',sep='.',file=fw)\n",
    "    lineno+=1\n",
    "print(lineno-1)\n",
    "fw.close()"
   ]
  },
  {
   "cell_type": "code",
   "execution_count": 3,
   "metadata": {},
   "outputs": [
    {
     "name": "stdout",
     "output_type": "stream",
     "text": [
      "Number of words:\n",
      "25\n"
     ]
    }
   ],
   "source": [
    "# Word Count\n",
    "#fname=input()\n",
    "n_word=0\n",
    "with open('DataFiles/sample.txt','r') as fh:\n",
    "     for line in fh:\n",
    "        words = line.split()\n",
    "        n_word += len(words)\n",
    "print(\"Number of words:\")\n",
    "print(n_word)"
   ]
  },
  {
   "cell_type": "code",
   "execution_count": 7,
   "metadata": {},
   "outputs": [
    {
     "name": "stdout",
     "output_type": "stream",
     "text": [
      "126\n"
     ]
    }
   ],
   "source": [
    "#character count\n",
    "characters=0\n",
    "word=0\n",
    "with open(\"DataFiles/sample.txt\",'r') as fh:\n",
    "    for line in fh:\n",
    "        wordli=line.split()\n",
    "        word=word+len(wordli)\n",
    "        characters+=sum(len(word) for word in wordli)\n",
    "print(characters)"
   ]
  },
  {
   "cell_type": "code",
   "execution_count": null,
   "metadata": {},
   "outputs": [],
   "source": [
    "# frequency Distribution/Unique Words\n",
    "def frequency(fpath):\n",
    "    #use dictionary\n",
    "      #keys---->unique wprds\n",
    "      #values---->count of unique words\n",
    "    #2 Lists\n",
    "      #1.All words List\n",
    "      #2.Unique words List\n",
    "\n",
    "     \n",
    "    "
   ]
  },
  {
   "cell_type": "code",
   "execution_count": null,
   "metadata": {},
   "outputs": [],
   "source": [
    "#Contacts apllication\n",
    "   # Add,Search,List,Modify Delete contacts\n",
    "#Find and Replace Contacts\n",
    "    #"
   ]
  },
  {
   "cell_type": "code",
   "execution_count": 4,
   "metadata": {},
   "outputs": [
    {
     "data": {
      "text/plain": [
       "{2: 1, 3: 1, 4: 1, 5: 1, 6: 1}"
      ]
     },
     "execution_count": 4,
     "metadata": {},
     "output_type": "execute_result"
    }
   ],
   "source": [
    "l=[2,3,4,5,6]\n",
    "d={}\n",
    "for i in set(l):\n",
    "    d[i] = l.count(i)\n",
    "d"
   ]
  },
  {
   "cell_type": "code",
   "execution_count": 3,
   "metadata": {},
   "outputs": [
    {
     "data": {
      "text/plain": [
       "{2, 3, 4, 5, 6}"
      ]
     },
     "execution_count": 3,
     "metadata": {},
     "output_type": "execute_result"
    }
   ],
   "source": [
    "set(l)"
   ]
  },
  {
   "cell_type": "code",
   "execution_count": 5,
   "metadata": {},
   "outputs": [],
   "source": [
    "l=[2,3,4,5,6]\n",
    "d={}\n",
    "for i in l:\n",
    "    if i in d:\n",
    "        d[i]+=1\n",
    "    else:\n",
    "        d[i]=1\n",
    "  "
   ]
  },
  {
   "cell_type": "code",
   "execution_count": null,
   "metadata": {},
   "outputs": [],
   "source": []
  },
  {
   "cell_type": "code",
   "execution_count": 10,
   "metadata": {},
   "outputs": [
    {
     "name": "stdout",
     "output_type": "stream",
     "text": [
      "pm\n"
     ]
    }
   ],
   "source": [
    "a = \"Welcome to python\"\n",
    "#s = a[::-1]\n",
    "print(a[])"
   ]
  },
  {
   "cell_type": "code",
   "execution_count": null,
   "metadata": {},
   "outputs": [],
   "source": []
  }
 ],
 "metadata": {
  "kernelspec": {
   "display_name": "Python 3",
   "language": "python",
   "name": "python3"
  },
  "language_info": {
   "codemirror_mode": {
    "name": "ipython",
    "version": 3
   },
   "file_extension": ".py",
   "mimetype": "text/x-python",
   "name": "python",
   "nbconvert_exporter": "python",
   "pygments_lexer": "ipython3",
   "version": "3.7.3"
  }
 },
 "nbformat": 4,
 "nbformat_minor": 2
}
