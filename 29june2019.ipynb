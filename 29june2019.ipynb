{
 "cells": [
  {
   "cell_type": "markdown",
   "metadata": {},
   "source": [
    "## Data Encryption and Decryption"
   ]
  },
  {
   "cell_type": "code",
   "execution_count": null,
   "metadata": {},
   "outputs": [],
   "source": [
    "## function to generate Key for encryption\n",
    "\n",
    "\n",
    "\n",
    "def GenerateKey(kpath):\n",
    "    with open(\"DataFiles/key.txt\",\"w\") as w:\n",
    "        for i in range(0,10):\n",
    "            if i<6:\n",
    "                w.write(str(i)+' '+str(i+4)+'\\n')\n",
    "            else:\n",
    "                w.write(str(i)+' '+str(i-6)+'\\n')\n",
    "        return\n",
    "kpath=\"DataFiles/key.txt\"\n",
    "GenerateKey(kpath)\n",
    "            "
   ]
  },
  {
   "cell_type": "code",
   "execution_count": null,
   "metadata": {},
   "outputs": [],
   "source": [
    "# Function to Encrypt the data\n",
    "\n",
    "def dictionaryKeyFile(kfile):\n",
    "    key={}\n",
    "    with open(\"DataFiles/key.txt\",'r') as f:\n",
    "        for line in f:\n",
    "            line=line.split()\n",
    "            key[line[0]]=line[1]\n",
    "    return key\n",
    "kfile=\"DataFiles/key.txt\"\n",
    "#dictionaryKeyFile(kfile)\n",
    "\n",
    "# Encryption method\n",
    "\n",
    "def EncryptKeyFile(dfile,kfile):\n",
    "    key=dictionaryKeyFile(kfile)\n",
    "    with open(dfile,'r') as f:\n",
    "        fdata=f.read().split('\\n')\n",
    "    with open(\"DataFiles/encryMarks.txt\",'w') as f:\n",
    "        for marks in fdata:\n",
    "            line=' '\n",
    "            for n in marks:\n",
    "                line+=key[n]\n",
    "            f.write(line+ '\\n')\n",
    "    return\n",
    "dfile=\"DataFiles/marks.txt\"\n",
    "#EncryptKeyFile(dfile,kfile)\n",
    "\n",
    "# Decryption Method\n",
    "\n",
    "def decryptFile(efile,kfile):\n",
    "    key=dictionaryKeyFile(kfile)\n",
    "    key=key.items()\n",
    "    newkey={}\n",
    "    for key,value in key.items():\n",
    "        newkey[value]=key\n",
    "    with open(efile,'r') as f:\n",
    "        edata=f.read().split('\\n')\n",
    "    with open(\"DataFiles/decryMarks.txt\",'w') as f:\n",
    "        \n",
    "        for emarks in edata:\n",
    "            for n1 in emarks:\n",
    "                line=' '\n",
    "                line+=newkey[n1]\n",
    "            f.write(line+ '\\n')\n",
    "    return\n",
    "efile=\"DataFiles/marks.txt\"\n",
    "decryptFile(efile,kfile)\n",
    "                \n",
    "        "
   ]
  }
 ],
 "metadata": {
  "kernelspec": {
   "display_name": "Python 3",
   "language": "python",
   "name": "python3"
  },
  "language_info": {
   "codemirror_mode": {
    "name": "ipython",
    "version": 3
   },
   "file_extension": ".py",
   "mimetype": "text/x-python",
   "name": "python",
   "nbconvert_exporter": "python",
   "pygments_lexer": "ipython3",
   "version": "3.7.3"
  }
 },
 "nbformat": 4,
 "nbformat_minor": 2
}
